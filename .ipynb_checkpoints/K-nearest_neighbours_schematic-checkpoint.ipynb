{
 "cells": [
  {
   "cell_type": "code",
   "execution_count": 3,
   "metadata": {},
   "outputs": [],
   "source": [
    "import numpy as np\n",
    "from math import sqrt\n",
    "import matplotlib.pyplot as plt\n",
    "import warnings\n",
    "from matplotlib import style\n",
    "#from collections import counter \n",
    "import pandas as pd\n",
    "import random"
   ]
  },
  {
   "cell_type": "code",
   "execution_count": 4,
   "metadata": {},
   "outputs": [],
   "source": [
    "def Ecd(q,p):\n",
    "    ecd = np.sqrt(sum([(a-b)**2 for a, b in zip(q,p)]))\n",
    "    return ecd"
   ]
  },
  {
   "cell_type": "code",
   "execution_count": 13,
   "metadata": {},
   "outputs": [],
   "source": [
    "data = \"breast-cancer-wisconsin.data\"              \n",
    "ds = pd.read_csv(data,names = [\"id\",\"clmp_th\",\"Uc_size\",\"Uc_shape\",\"MA\",\"SEc_size\",\"bare_nuclei\",\"bland_chrom\",\"normal_nucleoli\",\"mit\",\"output\"])\n",
    "def clean(x):\n",
    "    if x  == '?':\n",
    "        return None\n",
    "    else:\n",
    "        return int(x)\n",
    "ds[\"bare_nuclei\"] = [clean(a) for a in ds[\"bare_nuclei\"].values ]\n",
    "test_pct = 0.10\n",
    "ds = ds.dropna()\n",
    "values = [[int(x) for x in a]for a in ds.values]\n",
    "random.shuffle(values)\n",
    "class_list = [a[len(a)-1] for a in values]\n",
    "clf_cl = class_list[int((1-test_pct)*len(class_list)):]\n",
    "class_list = class_list[:int((1-test_pct)*len(class_list))]\n",
    "values = [[a[i] for i in range(len(a)) if i != 0 and i != len(a)-1] for a in values]\n",
    "data_list = values\n",
    "clf_dl = data_list[int((1-test_pct)*len(data_list)):]\n",
    "data_list = data_list[:int((1-test_pct)*len(data_list))]\n",
    "#print(clf_dl[5],clf_cl[5])"
   ]
  },
  {
   "cell_type": "code",
   "execution_count": 14,
   "metadata": {},
   "outputs": [],
   "source": [
    "def count(x):\n",
    "    classes = []\n",
    "    for a in x:\n",
    "        if a not in classes:\n",
    "            classes.append(a)\n",
    "    \n",
    "    val = 0\n",
    "    class_ct = []\n",
    "    for a in classes:\n",
    "        for b in x:\n",
    "            if a == b:\n",
    "                val+=1\n",
    "        class_ct.append(val)\n",
    "        val = 0\n",
    "    res_dict = {a:b for a,b in zip(classes,class_ct)}\n",
    "    result = classes[class_ct.index(max(class_ct))]\n",
    "    \n",
    "    return res_dict,result"
   ]
  },
  {
   "cell_type": "code",
   "execution_count": 15,
   "metadata": {},
   "outputs": [],
   "source": [
    "def knn_test(clf_dl,clf_cl,data_list,class_list):\n",
    "    correct = 0\n",
    "    confidence = []\n",
    "    for x in range(len(clf_dl)):\n",
    "        class_res = [[Ecd(clf_dl[x],a),b] for a,b in zip(data_list,class_list)]    \n",
    "        class_res = sorted(class_res,key=lambda l:l[0])\n",
    "        vote_pct = 0.005\n",
    "        vote_rng = int(len(class_res)*vote_pct)\n",
    "        vote_list = [a[1] for a in class_res[:vote_rng]]\n",
    "\n",
    "        vote_dict, vote = count(vote_list)\n",
    "        if vote == clf_cl[x]:\n",
    "            correct +=1\n",
    "        else:\n",
    "            confidence.append(vote_dict[vote]/len(vote_list))\n",
    "    \n",
    "    pct = correct/len(clf_cl)\n",
    "    pct = pct*100\n",
    "    print(f\"{pct:.2f}%\")\n",
    "    print(confidence)"
   ]
  },
  {
   "cell_type": "code",
   "execution_count": 16,
   "metadata": {},
   "outputs": [
    {
     "name": "stdout",
     "output_type": "stream",
     "text": [
      "95.65%\n",
      "[1.0, 1.0, 0.6666666666666666]\n"
     ]
    }
   ],
   "source": [
    "knn_test(clf_dl,clf_cl,data_list,class_list)"
   ]
  },
  {
   "cell_type": "code",
   "execution_count": null,
   "metadata": {},
   "outputs": [],
   "source": []
  }
 ],
 "metadata": {
  "kernelspec": {
   "display_name": "Python 3",
   "language": "python",
   "name": "python3"
  },
  "language_info": {
   "codemirror_mode": {
    "name": "ipython",
    "version": 3
   },
   "file_extension": ".py",
   "mimetype": "text/x-python",
   "name": "python",
   "nbconvert_exporter": "python",
   "pygments_lexer": "ipython3",
   "version": "3.8.5"
  }
 },
 "nbformat": 4,
 "nbformat_minor": 4
}
