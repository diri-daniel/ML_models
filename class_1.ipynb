{
 "cells": [
  {
   "cell_type": "code",
   "execution_count": 4,
   "metadata": {},
   "outputs": [],
   "source": [
    "%matplotlib inline\n",
    "import pandas as pd\n",
    "import numpy as np\n",
    "from matplotlib import pyplot as plt"
   ]
  },
  {
   "cell_type": "code",
   "execution_count": 11,
   "metadata": {},
   "outputs": [],
   "source": [
    "class LinReg:\n",
    "    def __init__(self,**kwargs):\n",
    "        self.x = None\n",
    "        self.y = None\n",
    "        if \"x\" in kwargs:\n",
    "            self.x = kwargs[\"x\"]\n",
    "        if \"y\" in kwargs:\n",
    "            self.y = kwargs[\"y\"]\n",
    "        \n",
    "    def set_x(self,_x):\n",
    "        self.x = _x\n",
    "        \n",
    "    def set_y(self, _y):\n",
    "        self.y = _y\n",
    "        \n",
    "    def d(self,a,b):\n",
    "        c = []\n",
    "        for v in a:\n",
    "            c.append(v-b)\n",
    "        return c\n",
    "        \n",
    "    def lin_func(self,m,c):\n",
    "        return [(m*a)+c  for a in self.x]\n",
    "    \n",
    "    def gen(self, **kwargs):\n",
    "        if self.x is not None:\n",
    "            _x = self.x\n",
    "        elif \"x\" in kwargs:\n",
    "            _x = kwargs[\"x\"]\n",
    "            self.set_x(_x)\n",
    "        else:\n",
    "            raise RuntimeError(\"Specify independent variable.\")\n",
    "            \n",
    "        if self.y is not None:\n",
    "            _y = self.y\n",
    "        elif \"y\" in kwargs:\n",
    "            _y = kwargs[\"y\"]\n",
    "            self.set_y(_y)\n",
    "        else:\n",
    "            raise RuntimeError(\"Specify dependent variable.\")\n",
    "            \n",
    "        mean_x = np.mean(_x)\n",
    "        mean_y = np.mean(_y)\n",
    "            \n",
    "        self.mean_x = mean_x\n",
    "        self.mean_y = mean_y\n",
    "        \n",
    "        self.sig_x_mean_x = sum(self.d(_x,mean_x))\n",
    "        self.sig_y_mean_y = sum(self.d(_y,mean_y))\n",
    "        \n",
    "        num = sum([a+b for a,b in zip(self.d(_x,mean_x),self.d(_y,mean_y))])\n",
    "        dnum = sum([a**2 for a in self.d(_x,mean_x)])\n",
    "        \n",
    "        self.m = num/dnum\n",
    "        self.c = mean_y - (self.m*mean_x)\n",
    "        \n",
    "        m = self.m \n",
    "        c = self.c \n",
    "        \n",
    "        self.pred_y = [(m*a)+c  for a in _x]\n",
    "        \n",
    "    def r2(self):\n",
    "        num = sum([a**2 for a in self.d(self.y, self.mean_y)])\n",
    "        dnum = sum([(a-b)**2 for a,b in zip(self.pred_y, self.y)])\n",
    "        \n",
    "        return 1 - (num/dnum)\n",
    "    \n",
    "    def slope_cor(self):\n",
    "        self.uncor_m = self.m\n",
    "        self.uncha_pred_y = self.pred_y\n",
    "        m = 0\n",
    "        r_score = []\n",
    "        go_on = True\n",
    "        \n",
    "        ### create condition for determining increasing or decreasing slope ! use of m+=1 or m-=1\n",
    "        while(go_on):\n",
    "            c = self.mean_y - (m*self.mean_x)\n",
    "            self.pred_y = self.lin_func(m,c)\n",
    "            r = self.r2()\n",
    "            r_score.append(r)\n",
    "            if r <= max(r_score) and r_score.index(r) > r_score.index(max(r_score)):\n",
    "                go_on = False\n",
    "            else:\n",
    "                m+=1\n",
    "                \n",
    "        self.m = m\n",
    "        \n",
    "    def show(self):\n",
    "        plt.plot(self.x, self.pred_y, color='b', label='Predicted line')\n",
    "        plt.scatter(self.x,self.y, color='k', label = 'Actual values')\n",
    "        \n",
    "        plt.legend()\n",
    "        plt.show()\n",
    "        print(self.d(self.y,self.mean_y))"
   ]
  },
  {
   "cell_type": "code",
   "execution_count": 12,
   "metadata": {},
   "outputs": [
    {
     "data": {
      "image/png": "[encoded data removed]",
      "text/plain": [
       "<Figure size 432x288 with 1 Axes>"
      ]
     },
     "metadata": {
      "needs_background": "light"
     },
     "output_type": "display_data"
    },
    {
     "name": "stdout",
     "output_type": "stream",
     "text": [
      "[2.5, 1.5, 0.5, -0.5, -1.5, -2.5]\n"
     ]
    }
   ],
   "source": [
    "x_val = [6, 5, 4, 3, 2,1]\n",
    "y_val = [6,5,4,3,2,1 ]\n",
    "l1 = LinReg(x = x_val, y = y_val)\n",
    "l1.gen()\n",
    "l1.r2()\n",
    "#original regression line\n",
    "l1.show()\n"
   ]
  },
  {
   "cell_type": "code",
   "execution_count": 13,
   "metadata": {},
   "outputs": [
    {
     "name": "stderr",
     "output_type": "stream",
     "text": [
      "<ipython-input-11-c224cf707ed4>:66: RuntimeWarning: divide by zero encountered in double_scalars\n",
      "  return 1 - (num/dnum)\n"
     ]
    },
    {
     "data": {
      "image/png": "[encoded data removed]",
      "text/plain": [
       "<Figure size 432x288 with 1 Axes>"
      ]
     },
     "metadata": {
      "needs_background": "light"
     },
     "output_type": "display_data"
    },
    {
     "name": "stdout",
     "output_type": "stream",
     "text": [
      "[2.5, 1.5, 0.5, -0.5, -1.5, -2.5]\n"
     ]
    }
   ],
   "source": [
    "#corrected regression line\n",
    "l1.slope_cor() # this corrects the linear equation for the relationship btw the data set and corrects the prediction formula\n",
    "l1.show()"
   ]
  }
 ],
 "metadata": {
  "kernelspec": {
   "display_name": "Python 3",
   "language": "python",
   "name": "python3"
  },
  "language_info": {
   "codemirror_mode": {
    "name": "ipython",
    "version": 3
   },
   "file_extension": ".py",
   "mimetype": "text/x-python",
   "name": "python",
   "nbconvert_exporter": "python",
   "pygments_lexer": "ipython3",
   "version": "3.8.5"
  }
 },
 "nbformat": 4,
 "nbformat_minor": 4
}
